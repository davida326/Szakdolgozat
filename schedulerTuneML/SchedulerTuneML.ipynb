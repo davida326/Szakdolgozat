{
 "cells": [
  {
   "cell_type": "code",
   "execution_count": 311,
   "metadata": {},
   "outputs": [],
   "source": [
    "import json\n",
    "import joblib\n",
    "import random\n",
    "import numpy as np\n",
    "import pandas as pd\n",
    "import seaborn as sns\n",
    "from sklearn import metrics\n",
    "from matplotlib import pyplot as plt\n",
    "from sklearn.neural_network import MLPClassifier\n",
    "from sklearn.neighbors import KNeighborsClassifier\n",
    "from sklearn.ensemble import RandomForestClassifier\n",
    "from sklearn.multioutput import MultiOutputClassifier\n",
    "from sklearn.model_selection import train_test_split, cross_validate"
   ]
  },
  {
   "cell_type": "markdown",
   "metadata": {},
   "source": [
    "### A teszt eredmények, a parameter-test programból:"
   ]
  },
  {
   "cell_type": "code",
   "execution_count": 312,
   "metadata": {},
   "outputs": [],
   "source": [
    "testLocations = [\n",
    "    \"./parametertestResults/sampleprogram.json\",\n",
    "    \"./parametertestResults/ebizzy.json\",\n",
    "    \"./parametertestResults/ctx-clock.json\",\n",
    "    \"./parametertestResults/fs_mark.json\",\n",
    "    \"./parametertestResults/stream.json\"\n",
    "]"
   ]
  },
  {
   "cell_type": "markdown",
   "metadata": {},
   "source": [
    "* avgLst(lst) - paraméterként megkap egy listát, és visszaadja az átlagukat\n",
    "* getIntervals - paraméterként megkapja egy json adathalmazt és végigiterál az eredményeken, majd visszaadja az adathalmazban lévő legjobb és legrosszabb elemet(minMaxLst).\n",
    "* featureScale(value,intervalMax,intervalMin) - Ennek segítségével normalizálom az adatokat, így az eredmények 0 - 1 közé fognak esni. Ez későbbiekben szükséges nekem, mivel ezeket még kategorizálni fogom.\n",
    "* getPredictionDf(predictions_lst,tType,df) - Ez a függvény az output értékeit felhasználva, kéri le a pontosan megegyező paraméterű elemet. Ellenörzés céljából írtam, így látható hogy azokkal a paraméterekkel amiket kaptunk, milyen értéket értem én el, tesztelés során. "
   ]
  },
  {
   "cell_type": "code",
   "execution_count": 331,
   "metadata": {},
   "outputs": [],
   "source": [
    "def avgLst(lst):\n",
    "    return sum(lst)/len(lst)\n",
    "\n",
    "def getIntervals(data):\n",
    "    intervalTop,intervalBottom = 0.0,float(avgLst(data[\"measurements\"][0][\"results\"]))\n",
    "    for j in data[\"measurements\"]:\n",
    "        if(float(avgLst(j[\"results\"])) > intervalTop):\n",
    "            intervalTop = float(avgLst(j[\"results\"]))\n",
    "        if(float(avgLst(j[\"results\"])) < intervalBottom):\n",
    "            intervalBottom = float(avgLst(j[\"results\"]))\n",
    "    minMaxLst = [intervalBottom,intervalTop]\n",
    "    return minMaxLst\n",
    "\n",
    "def featureScale(value,intervalMax,intervalMin):\n",
    "    return (value-intervalMin)/(intervalMax-intervalMin)\n",
    "\n",
    "def getPredictionDf(predictions_lst,tType,df):\n",
    "    return df[(df[\"testType\"]==tType) & (df[\"latency\"]==predictions[0][0]) &(df[\"min_gran\"]==predictions[0][1]) &(df[\"wakeup_gran\"]==predictions[0][2]) &(df[\"priority\"]==predictions[0][3]) & (df[\"vm.swappiness\"]==predictions[0][4]) ]"
   ]
  },
  {
   "cell_type": "markdown",
   "metadata": {},
   "source": [
    "### Egy listához adom, az összes tesztben elért legjobb és legrosszabb elemet:"
   ]
  },
  {
   "cell_type": "code",
   "execution_count": 355,
   "metadata": {},
   "outputs": [],
   "source": [
    "classResultIntervals = [0.20,0.4,0.6,0.8]\n",
    "classIntervalMinMax = []\n",
    "dataStrLst = []\n",
    "for i in range(len(testLocations)):\n",
    "    file = open(testLocations[i])\n",
    "    data = json.load(file)\n",
    "    dataStrLst.append(json.dumps(data))\n",
    "    minMax = getIntervals(data)\n",
    "    if(i == 0 or i == 2):\n",
    "        minMax.reverse()\n",
    "    classIntervalMinMax.append(minMax)"
   ]
  },
  {
   "cell_type": "markdown",
   "metadata": {},
   "source": [
    "### Kibővítem az adathalmazt új elemekkel mint például:\n",
    "#### batchProcess \n",
    "Batch processzek, akik életük nagy részét számolással töltik. Nekik nem szükséges nagy prioritást állítani, kevesebbszer kerülnek végrehajtásra, viszont ekkor nagyobb időszeletet kapnak. Emiatt hogyha egy processz prioritása kisebb mint nulla, batchProcess kategóriába kerül.\n",
    "#### serverWorkload \n",
    "Az ütemezőt behangolhatjuk szerver terhelésre, ehhez a min_granularity változónk értékét kell módosítani. A CFS ütemezőben nincsenek konkrétan időszeletek, az időszeletek így számolódnak: \n",
    "(latency target)/\\<the number of runnable processes>\n",
    "Nagy létszámú processzek esetén a (latency target) így számolódik: kernel.sched_min_granularity_ns * (the number of runnable processes). Emiatt amikor nagyobb értéket vesz fel a min_granularity mint az alapbeállítás, serverWorkload kategóriába kerül.\n",
    "#### swap \n",
    "Szüksége van a felhasználónak swap memóriára? Hogyha nincs szüksége 0, egyébként 1.\n",
    "#### testClass\n",
    "A kimeneti értékeket először normalizáltam hogy 0 és 1 között legyenek. Ezután kategóriákba soroltam az értékeket, \n",
    "\n",
    "classResultIntervals = [0.20,0.4,0.6,0.8]\n",
    "\n",
    "         x < 20 : 0\n",
    "    20 < x < 40 : 1\n",
    "    40 < x < 60 : 2\n",
    "    60 < x < 80 : 3\n",
    "    80 < x < 100: 4\n",
    "    \n",
    "Ezzel az inputtal szeretném elérni hogy a legjobb értéket adja a modellem, ezért ezt mindig 4-re állítom."
   ]
  },
  {
   "cell_type": "code",
   "execution_count": 357,
   "metadata": {
    "scrolled": true
   },
   "outputs": [],
   "source": [
    "dataSet = []\n",
    "for i in range(len(dataStrLst)):\n",
    "    data_json = json.loads(dataStrLst[i])\n",
    "    classResult = 0\n",
    "    for j in data_json[\"measurements\"]:\n",
    "        swap = 1 if ( int(j[\"parameters\"][\"vm.swap\"]) > 0 ) else 0                                     \n",
    "        testType = data_json[\"testType\"]\n",
    "        testName = data_json[\"testName\"]\n",
    "        batchProcess = 1 if ( int(j[\"parameters\"][\"prio\"]) < 0 ) else 0\n",
    "        serverWorkload = 1 if( int(j[\"parameters\"][\"min_gran\"]) > 1500000) else 0\n",
    "        resultNormalized = featureScale(float(avgLst(j[\"results\"])),classIntervalMinMax[i][1],classIntervalMinMax[i][0])\n",
    "        for k in range(len(classResultIntervals)):\n",
    "            if(resultNormalized > classResultIntervals[k]):\n",
    "                classResult = (k+1)\n",
    "        dataSet.append([testType,testName,batchProcess,classResult,serverWorkload,swap,resultNormalized,int(j[\"parameters\"][\"latency\"]),int(j[\"parameters\"][\"min_gran\"]),int(j[\"parameters\"][\"wakeup_gran\"]),int(j[\"parameters\"][\"prio\"]),int(j[\"parameters\"][\"vm.swap\"])],)\n",
    "df = pd.DataFrame(dataSet,columns=[\"testType\",\"testName\",\"batchProcess\",\"resultClass\",\"serverWorkload\",\"swap\",\"results\",\"latency\",\"min_gran\",\"wakeup_gran\",\"priority\",\"vm.swappiness\"])"
   ]
  },
  {
   "cell_type": "code",
   "execution_count": 316,
   "metadata": {},
   "outputs": [],
   "source": [
    "testTypeMap = {\n",
    "    \"cpu\" : 0,\n",
    "    \"system\" : 1,\n",
    "    \"disk\" : 2,\n",
    "    \"memory\" : 3,\n",
    "    \"cpu-s\":4\n",
    "}\n",
    "df.testType.replace(to_replace=testTypeMap,inplace=True)\n",
    "#features\n",
    "X = df[[\"testType\",\"resultClass\",\"batchProcess\",\"serverWorkload\",\"swap\"]]\n",
    "#labels\n",
    "y = df[[\"latency\",\"min_gran\",\"wakeup_gran\",\"priority\",\"vm.swappiness\"]]\n",
    "#split dataset 80% train 20% test\n",
    "X_train,X_test,y_train,y_test = train_test_split(X,y,test_size=0.2)\n",
    "model = MLPClassifier(solver='lbfgs', hidden_layer_sizes=[100], max_iter=20000000, activation='logistic')\n",
    "model = MultiOutputClassifier(model)"
   ]
  },
  {
   "cell_type": "code",
   "execution_count": 317,
   "metadata": {
    "scrolled": true
   },
   "outputs": [],
   "source": [
    "#model.fit(X_train,y_train)      #I already trained the model\n",
    "model = joblib.load(\"model.sav\") #Load the model"
   ]
  },
  {
   "cell_type": "code",
   "execution_count": 318,
   "metadata": {},
   "outputs": [
    {
     "data": {
      "text/html": [
       "<div>\n",
       "<style scoped>\n",
       "    .dataframe tbody tr th:only-of-type {\n",
       "        vertical-align: middle;\n",
       "    }\n",
       "\n",
       "    .dataframe tbody tr th {\n",
       "        vertical-align: top;\n",
       "    }\n",
       "\n",
       "    .dataframe thead th {\n",
       "        text-align: right;\n",
       "    }\n",
       "</style>\n",
       "<table border=\"1\" class=\"dataframe\">\n",
       "  <thead>\n",
       "    <tr style=\"text-align: right;\">\n",
       "      <th></th>\n",
       "      <th>testType</th>\n",
       "      <th>testName</th>\n",
       "      <th>batchProcess</th>\n",
       "      <th>resultClass</th>\n",
       "      <th>serverWorkload</th>\n",
       "      <th>swap</th>\n",
       "      <th>results</th>\n",
       "      <th>latency</th>\n",
       "      <th>min_gran</th>\n",
       "      <th>wakeup_gran</th>\n",
       "      <th>priority</th>\n",
       "      <th>vm.swappiness</th>\n",
       "    </tr>\n",
       "  </thead>\n",
       "  <tbody>\n",
       "    <tr>\n",
       "      <th>0</th>\n",
       "      <td>4</td>\n",
       "      <td>sampleprogram</td>\n",
       "      <td>1</td>\n",
       "      <td>4</td>\n",
       "      <td>0</td>\n",
       "      <td>0</td>\n",
       "      <td>0.987037</td>\n",
       "      <td>100000</td>\n",
       "      <td>100000</td>\n",
       "      <td>0</td>\n",
       "      <td>-20</td>\n",
       "      <td>0</td>\n",
       "    </tr>\n",
       "    <tr>\n",
       "      <th>1</th>\n",
       "      <td>4</td>\n",
       "      <td>sampleprogram</td>\n",
       "      <td>1</td>\n",
       "      <td>4</td>\n",
       "      <td>0</td>\n",
       "      <td>1</td>\n",
       "      <td>0.976852</td>\n",
       "      <td>100000</td>\n",
       "      <td>100000</td>\n",
       "      <td>0</td>\n",
       "      <td>-20</td>\n",
       "      <td>33</td>\n",
       "    </tr>\n",
       "    <tr>\n",
       "      <th>2</th>\n",
       "      <td>4</td>\n",
       "      <td>sampleprogram</td>\n",
       "      <td>1</td>\n",
       "      <td>4</td>\n",
       "      <td>0</td>\n",
       "      <td>1</td>\n",
       "      <td>0.994444</td>\n",
       "      <td>100000</td>\n",
       "      <td>100000</td>\n",
       "      <td>0</td>\n",
       "      <td>-20</td>\n",
       "      <td>66</td>\n",
       "    </tr>\n",
       "    <tr>\n",
       "      <th>3</th>\n",
       "      <td>4</td>\n",
       "      <td>sampleprogram</td>\n",
       "      <td>1</td>\n",
       "      <td>4</td>\n",
       "      <td>0</td>\n",
       "      <td>1</td>\n",
       "      <td>0.988889</td>\n",
       "      <td>100000</td>\n",
       "      <td>100000</td>\n",
       "      <td>0</td>\n",
       "      <td>-20</td>\n",
       "      <td>100</td>\n",
       "    </tr>\n",
       "    <tr>\n",
       "      <th>4</th>\n",
       "      <td>4</td>\n",
       "      <td>sampleprogram</td>\n",
       "      <td>1</td>\n",
       "      <td>4</td>\n",
       "      <td>0</td>\n",
       "      <td>0</td>\n",
       "      <td>0.991667</td>\n",
       "      <td>100000</td>\n",
       "      <td>100000</td>\n",
       "      <td>0</td>\n",
       "      <td>-6</td>\n",
       "      <td>0</td>\n",
       "    </tr>\n",
       "    <tr>\n",
       "      <th>...</th>\n",
       "      <td>...</td>\n",
       "      <td>...</td>\n",
       "      <td>...</td>\n",
       "      <td>...</td>\n",
       "      <td>...</td>\n",
       "      <td>...</td>\n",
       "      <td>...</td>\n",
       "      <td>...</td>\n",
       "      <td>...</td>\n",
       "      <td>...</td>\n",
       "      <td>...</td>\n",
       "      <td>...</td>\n",
       "    </tr>\n",
       "    <tr>\n",
       "      <th>5115</th>\n",
       "      <td>3</td>\n",
       "      <td>stream</td>\n",
       "      <td>0</td>\n",
       "      <td>1</td>\n",
       "      <td>1</td>\n",
       "      <td>1</td>\n",
       "      <td>0.336507</td>\n",
       "      <td>1000000000</td>\n",
       "      <td>1000000000</td>\n",
       "      <td>1000000000</td>\n",
       "      <td>6</td>\n",
       "      <td>100</td>\n",
       "    </tr>\n",
       "    <tr>\n",
       "      <th>5116</th>\n",
       "      <td>3</td>\n",
       "      <td>stream</td>\n",
       "      <td>0</td>\n",
       "      <td>2</td>\n",
       "      <td>1</td>\n",
       "      <td>0</td>\n",
       "      <td>0.465125</td>\n",
       "      <td>1000000000</td>\n",
       "      <td>1000000000</td>\n",
       "      <td>1000000000</td>\n",
       "      <td>19</td>\n",
       "      <td>0</td>\n",
       "    </tr>\n",
       "    <tr>\n",
       "      <th>5117</th>\n",
       "      <td>3</td>\n",
       "      <td>stream</td>\n",
       "      <td>0</td>\n",
       "      <td>1</td>\n",
       "      <td>1</td>\n",
       "      <td>1</td>\n",
       "      <td>0.363901</td>\n",
       "      <td>1000000000</td>\n",
       "      <td>1000000000</td>\n",
       "      <td>1000000000</td>\n",
       "      <td>19</td>\n",
       "      <td>33</td>\n",
       "    </tr>\n",
       "    <tr>\n",
       "      <th>5118</th>\n",
       "      <td>3</td>\n",
       "      <td>stream</td>\n",
       "      <td>0</td>\n",
       "      <td>2</td>\n",
       "      <td>1</td>\n",
       "      <td>1</td>\n",
       "      <td>0.541480</td>\n",
       "      <td>1000000000</td>\n",
       "      <td>1000000000</td>\n",
       "      <td>1000000000</td>\n",
       "      <td>19</td>\n",
       "      <td>66</td>\n",
       "    </tr>\n",
       "    <tr>\n",
       "      <th>5119</th>\n",
       "      <td>3</td>\n",
       "      <td>stream</td>\n",
       "      <td>0</td>\n",
       "      <td>2</td>\n",
       "      <td>1</td>\n",
       "      <td>1</td>\n",
       "      <td>0.466874</td>\n",
       "      <td>1000000000</td>\n",
       "      <td>1000000000</td>\n",
       "      <td>1000000000</td>\n",
       "      <td>19</td>\n",
       "      <td>100</td>\n",
       "    </tr>\n",
       "  </tbody>\n",
       "</table>\n",
       "<p>5120 rows × 12 columns</p>\n",
       "</div>"
      ],
      "text/plain": [
       "      testType       testName  batchProcess  resultClass  serverWorkload  \\\n",
       "0            4  sampleprogram             1            4               0   \n",
       "1            4  sampleprogram             1            4               0   \n",
       "2            4  sampleprogram             1            4               0   \n",
       "3            4  sampleprogram             1            4               0   \n",
       "4            4  sampleprogram             1            4               0   \n",
       "...        ...            ...           ...          ...             ...   \n",
       "5115         3         stream             0            1               1   \n",
       "5116         3         stream             0            2               1   \n",
       "5117         3         stream             0            1               1   \n",
       "5118         3         stream             0            2               1   \n",
       "5119         3         stream             0            2               1   \n",
       "\n",
       "      swap   results     latency    min_gran  wakeup_gran  priority  \\\n",
       "0        0  0.987037      100000      100000            0       -20   \n",
       "1        1  0.976852      100000      100000            0       -20   \n",
       "2        1  0.994444      100000      100000            0       -20   \n",
       "3        1  0.988889      100000      100000            0       -20   \n",
       "4        0  0.991667      100000      100000            0        -6   \n",
       "...    ...       ...         ...         ...          ...       ...   \n",
       "5115     1  0.336507  1000000000  1000000000   1000000000         6   \n",
       "5116     0  0.465125  1000000000  1000000000   1000000000        19   \n",
       "5117     1  0.363901  1000000000  1000000000   1000000000        19   \n",
       "5118     1  0.541480  1000000000  1000000000   1000000000        19   \n",
       "5119     1  0.466874  1000000000  1000000000   1000000000        19   \n",
       "\n",
       "      vm.swappiness  \n",
       "0                 0  \n",
       "1                33  \n",
       "2                66  \n",
       "3               100  \n",
       "4                 0  \n",
       "...             ...  \n",
       "5115            100  \n",
       "5116              0  \n",
       "5117             33  \n",
       "5118             66  \n",
       "5119            100  \n",
       "\n",
       "[5120 rows x 12 columns]"
      ]
     },
     "execution_count": 318,
     "metadata": {},
     "output_type": "execute_result"
    }
   ],
   "source": [
    "#joblib.dump(model,\"model.sav\") # Save the model\n",
    "df"
   ]
  },
  {
   "cell_type": "code",
   "execution_count": 319,
   "metadata": {
    "scrolled": true
   },
   "outputs": [
    {
     "name": "stdout",
     "output_type": "stream",
     "text": [
      "0 - cpu\t1 - system\t 2 - disk 3 - memory 4 - cpu(SingleCore)\n",
      "teszt típusa:\n",
      "0\n",
      "a futtatni kivánt program batch process? 0-Nem 1-Igen\n",
      "1\n",
      "szerver szintű terhelésre lehet számítani? 0-Nem 1-Igen\n",
      "0\n",
      "swap memóriát igényel? 0-Nem 1-Igen\n",
      "1\n"
     ]
    }
   ],
   "source": [
    "print(\"0 - cpu\\t1 - system\\t 2 - disk 3 - memory 4 - cpu(SingleCore)\")\n",
    "print(\"teszt típusa:\")\n",
    "tType = int(input())\n",
    "print(\"a futtatni kivánt program batch process? 0-Nem 1-Igen\")\n",
    "tBatch = int(input())\n",
    "print(\"szerver szintű terhelésre lehet számítani? 0-Nem 1-Igen\")\n",
    "tServerWorkload = int(input())\n",
    "print(\"swap memóriát igényel? 0-Nem 1-Igen\")\n",
    "tSwap = int(input())"
   ]
  },
  {
   "cell_type": "code",
   "execution_count": 324,
   "metadata": {
    "scrolled": true
   },
   "outputs": [
    {
     "name": "stdout",
     "output_type": "stream",
     "text": [
      "paraméterek:  [[333400000    100000 333333333       -20       100]]\n"
     ]
    },
    {
     "data": {
      "text/html": [
       "<div>\n",
       "<style scoped>\n",
       "    .dataframe tbody tr th:only-of-type {\n",
       "        vertical-align: middle;\n",
       "    }\n",
       "\n",
       "    .dataframe tbody tr th {\n",
       "        vertical-align: top;\n",
       "    }\n",
       "\n",
       "    .dataframe thead th {\n",
       "        text-align: right;\n",
       "    }\n",
       "</style>\n",
       "<table border=\"1\" class=\"dataframe\">\n",
       "  <thead>\n",
       "    <tr style=\"text-align: right;\">\n",
       "      <th></th>\n",
       "      <th>testType</th>\n",
       "      <th>testName</th>\n",
       "      <th>batchProcess</th>\n",
       "      <th>resultClass</th>\n",
       "      <th>serverWorkload</th>\n",
       "      <th>swap</th>\n",
       "      <th>results</th>\n",
       "      <th>latency</th>\n",
       "      <th>min_gran</th>\n",
       "      <th>wakeup_gran</th>\n",
       "      <th>priority</th>\n",
       "      <th>vm.swappiness</th>\n",
       "    </tr>\n",
       "  </thead>\n",
       "  <tbody>\n",
       "    <tr>\n",
       "      <th>1299</th>\n",
       "      <td>0</td>\n",
       "      <td>ebizzy</td>\n",
       "      <td>1</td>\n",
       "      <td>4</td>\n",
       "      <td>0</td>\n",
       "      <td>1</td>\n",
       "      <td>0.813647</td>\n",
       "      <td>333400000</td>\n",
       "      <td>100000</td>\n",
       "      <td>333333333</td>\n",
       "      <td>-20</td>\n",
       "      <td>100</td>\n",
       "    </tr>\n",
       "  </tbody>\n",
       "</table>\n",
       "</div>"
      ],
      "text/plain": [
       "      testType testName  batchProcess  resultClass  serverWorkload  swap  \\\n",
       "1299         0   ebizzy             1            4               0     1   \n",
       "\n",
       "       results    latency  min_gran  wakeup_gran  priority  vm.swappiness  \n",
       "1299  0.813647  333400000    100000    333333333       -20            100  "
      ]
     },
     "execution_count": 324,
     "metadata": {},
     "output_type": "execute_result"
    }
   ],
   "source": [
    "prediction_arr = [[tType,4,tBatch,tServerWorkload,tSwap]]\n",
    "prediction_df = pd.DataFrame(prediction_arr,columns=[\"testType\",\"resultsClass\",\"batchProcess\",\"serverWorkload\",\"swap\"])\n",
    "predictions = model.predict(prediction_df)\n",
    "print(\"paraméterek: \",predictions)\n",
    "getPredictionDf(prediction_arr,tType,df)"
   ]
  },
  {
   "cell_type": "markdown",
   "metadata": {},
   "source": [
    "### Itt azt próbálom megmutatni hogy melyik kategóriában, mennyi elem található. "
   ]
  },
  {
   "cell_type": "code",
   "execution_count": 360,
   "metadata": {},
   "outputs": [
    {
     "data": {
      "text/plain": [
       "1    1745\n",
       "4    1729\n",
       "2     835\n",
       "3     810\n",
       "0       1\n",
       "Name: resultClass, dtype: int64"
      ]
     },
     "execution_count": 360,
     "metadata": {},
     "output_type": "execute_result"
    },
    {
     "data": {
      "image/png": "[encoded data removed]",
      "text/plain": [
       "<Figure size 432x288 with 1 Axes>"
      ]
     },
     "metadata": {
      "needs_background": "light"
     },
     "output_type": "display_data"
    }
   ],
   "source": [
    "df[\"resultClass\"].value_counts().plot(kind=\"bar\")\n",
    "df[\"resultClass\"].value_counts()"
   ]
  }
 ],
 "metadata": {
  "kernelspec": {
   "display_name": "Python 3",
   "language": "python",
   "name": "python3"
  },
  "language_info": {
   "codemirror_mode": {
    "name": "ipython",
    "version": 3
   },
   "file_extension": ".py",
   "mimetype": "text/x-python",
   "name": "python",
   "nbconvert_exporter": "python",
   "pygments_lexer": "ipython3",
   "version": "3.7.3"
  }
 },
 "nbformat": 4,
 "nbformat_minor": 4
}
