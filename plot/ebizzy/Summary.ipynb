{
 "cells": [
  {
   "cell_type": "markdown",
   "metadata": {},
   "source": [
    "### Ebizzy benchmark méréseket feldolgozó python program (Több processzor magot igényel, webszerver terhelést, próbál imitálni)\n",
    "#### Összesítő grafikonok\n",
    "- Itt találhatóak azok a grafikonok amik, nem paraméter alapján lettek meghatározva, hanem az összes eredmény által.\n",
    "- Az egyes részek alatt található a leírás hogy éppen mit szeretnék megjeleníteni az eredményekből\n",
    "- Itt az összes benchmark fix ideig futott, és jobb eredménynek számít az ha ezalatt az idő alatt több request-et tudott elvégezni.\n",
    "- 140.000-nél találhatók a legjobb értékek, és ezek egészen 115796(request/20sec) ig mozognak(amik már rossznak számítanak)"
   ]
  },
  {
   "cell_type": "code",
   "execution_count": 7,
   "metadata": {},
   "outputs": [
    {
     "data": {
      "image/png": "[encoded data removed]",
      "text/plain": [
       "<Figure size 432x288 with 1 Axes>"
      ]
     },
     "metadata": {
      "needs_background": "light"
     },
     "output_type": "display_data"
    }
   ],
   "source": [
    "import json\n",
    "import matplotlib.pyplot as plt\n",
    "import numpy as np\n",
    "f = open(\"ertekek.json\")\n",
    "data = json.load(f)\n",
    "results=[]\n",
    "for i in data[\"measurements\"]:\n",
    "    diff=[]\n",
    "    for j in i[\"results\"]:\n",
    "        diff.append(j)\n",
    "    results.append((max(diff)-min(diff)))\n",
    "step=np.arange(0,20000,500)\n",
    "plt.hist(results,bins=step)\n",
    "plt.show()"
   ]
  },
  {
   "cell_type": "markdown",
   "metadata": {},
   "source": [
    "Itt egy futásoknál keletkezett érték ingadozást szeretném ábrázolni.\n",
    "Látható hogy a legtöbb esetben, a minták szórása 0-500 közötti érték, de emellett még van sok 1000-2000 szórások is néhány mérésnél.\n",
    "Az értékek itt azt próbálják megmutatni, hogy mennyire megbízható a teszt. Sajnos a végén igen nagy számok is láthatóak, amik nem túl jó eredmények, de legalább kevés van belőlük."
   ]
  },
  {
   "cell_type": "code",
   "execution_count": 2,
   "metadata": {},
   "outputs": [
    {
     "name": "stdout",
     "output_type": "stream",
     "text": [
      "best runtime:  115796 \n",
      " {'parameters': {'latency': '333400000', 'min_gran': '1000000000', 'wakeup_gran': '1000000000', 'prio': '-6'}, 'results': [138041, 115796, 138227, 139254, 137707]}\n",
      "worst runtime:  141396 \n",
      " {'parameters': {'latency': '1000000000', 'min_gran': '1000000000', 'wakeup_gran': '666666666', 'prio': '6'}, 'results': [141396, 138946, 138398, 132137, 138553]}\n"
     ]
    }
   ],
   "source": [
    "import json\n",
    "f = open(\"ertekek.json\")\n",
    "data = json.load(f)\n",
    "results=[]\n",
    "for i in data[\"measurements\"]:\n",
    "    for j in i[\"results\"]:\n",
    "        results.append(j)\n",
    "best=min(results)\n",
    "worst=max(results)\n",
    "for i in data[\"measurements\"]:\n",
    "    for j in i[\"results\"]:\n",
    "        if(j==best):\n",
    "            bestPar=i\n",
    "        if(j==worst):\n",
    "            worstPar=i\n",
    "print(\"best runtime: \",min(results),\"\\n\",bestPar)\n",
    "print(\"worst runtime: \",max(results),\"\\n\",worstPar)"
   ]
  },
  {
   "cell_type": "markdown",
   "metadata": {},
   "source": [
    "A legjobb futási eredmény és annak beállításai:\n",
    "Ami itt látható hogy viszonylag nagy a szórás a minták között, a legjobbnál például szerepel 141396(ami csúcs eredmény)-132137(egészen átlagos)"
   ]
  }
 ],
 "metadata": {
  "kernelspec": {
   "display_name": "Python 3",
   "language": "python",
   "name": "python3"
  },
  "language_info": {
   "codemirror_mode": {
    "name": "ipython",
    "version": 3
   },
   "file_extension": ".py",
   "mimetype": "text/x-python",
   "name": "python",
   "nbconvert_exporter": "python",
   "pygments_lexer": "ipython3",
   "version": "3.7.3"
  }
 },
 "nbformat": 4,
 "nbformat_minor": 4
}
