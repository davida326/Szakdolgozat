{
 "cells": [
  {
   "cell_type": "markdown",
   "metadata": {},
   "source": [
    "### Ebizzy benchmark méréseket feldolgozó python program (Több processzor magot igényel, webszerver terhelést, próbál imitálni)\n",
    "#### latency paraméterhez tartozó grafikonok\n",
    "- Az egyes részek alatt található a leírás hogy éppen mit szeretnék megjeleníteni az eredményekből\n",
    "- Itt az összes benchmark fix ideig futott, és jobb eredménynek számít az ha ezalatt az idő alatt több request-et tudott elvégezni.\n",
    "- 140.000-nél találhatók a legjobb értékek, és ezek egészen 115796(request/20sec) ig mozognak(amik már rossznak számítanak)"
   ]
  },
  {
   "cell_type": "code",
   "execution_count": 38,
   "metadata": {},
   "outputs": [
    {
     "data": {
      "image/png": "[encoded data removed]",
      "text/plain": [
       "<Figure size 432x288 with 1 Axes>"
      ]
     },
     "metadata": {
      "needs_background": "light"
     },
     "output_type": "display_data"
    }
   ],
   "source": [
    "import json\n",
    "import matplotlib.pyplot as plt\n",
    "import numpy as np\n",
    "rtime = []\n",
    "latency = []\n",
    "f = open(\"ertekek.json\")\n",
    "avg=[]\n",
    "data = json.load(f)\n",
    "for i in data[\"measurements\"]:\n",
    "    avgi=0\n",
    "    latency.append(i[\"parameters\"][\"latency\"])\n",
    "    for j in i[\"results\"]:\n",
    "        avgi+=j\n",
    "    avg.append(avgi/len(i[\"results\"]))\n",
    "plt.plot(latency,avg,\"o\")\n",
    "plt.show()"
   ]
  },
  {
   "cell_type": "markdown",
   "metadata": {},
   "source": [
    "Itt az öt futási mintát átlagoltam, x-preemptionLatency(mozgó paraméter, többi rögzített) y-runtime(5 darab minta átlag futási ideje)"
   ]
  },
  {
   "cell_type": "code",
   "execution_count": 39,
   "metadata": {},
   "outputs": [
    {
     "data": {
      "image/png": "[encoded data removed]",
      "text/plain": [
       "<Figure size 432x288 with 1 Axes>"
      ]
     },
     "metadata": {
      "needs_background": "light"
     },
     "output_type": "display_data"
    }
   ],
   "source": [
    "import json\n",
    "import matplotlib.pyplot as plt\n",
    "import numpy as np\n",
    "rtime = []\n",
    "latency = []\n",
    "f = open(\"ertekek.json\")\n",
    "data = json.load(f)\n",
    "for i in data[\"measurements\"]:\n",
    "    for k in range(5):\n",
    "        latency.append(i[\"parameters\"][\"latency\"])\n",
    "    for j in i[\"results\"]:\n",
    "        rtime.append(j)\n",
    "plt.plot(latency,rtime,\"o\")\n",
    "plt.show()"
   ]
  },
  {
   "cell_type": "markdown",
   "metadata": {},
   "source": [
    "Az összes minta szerepel a grafikonon, a hozzá társuló Latency paraméterrel"
   ]
  },
  {
   "cell_type": "code",
   "execution_count": 7,
   "metadata": {},
   "outputs": [
    {
     "name": "stdout",
     "output_type": "stream",
     "text": [
      "Bal oldali:\n",
      "140,000Requests/20mp:\n",
      "\n",
      " 100000    : \t 156 db \n",
      " 333400000 : \t 122 db \n",
      " 666700000 : \t 78 db \n",
      " 1000000000: \t 65 db\n",
      "\n",
      "Jobb oldali:\n",
      "138,000Requests/20mp:\n",
      "\n",
      " 100000    : \t 8 db \n",
      " 333400000 : \t 4 db \n",
      " 666700000 : \t 2 db \n",
      " 1000000000: \t 5 db\n"
     ]
    },
    {
     "data": {
      "image/png": "[encoded data removed]",
      "text/plain": [
       "<Figure size 1296x360 with 2 Axes>"
      ]
     },
     "metadata": {
      "needs_background": "light"
     },
     "output_type": "display_data"
    }
   ],
   "source": [
    "import json\n",
    "import matplotlib.pyplot as plt\n",
    "import numpy as np\n",
    "f, ax = plt.subplots(figsize=(18,5)) # set the size - figsize(width, height)\n",
    "first=0\n",
    "second=0\n",
    "third=0\n",
    "forth=0\n",
    "f = open(\"ertekek.json\")\n",
    "data = json.load(f)\n",
    "for i in data[\"measurements\"]:\n",
    "    count=0\n",
    "    for j in i[\"results\"]:\n",
    "        if(j>140000):\n",
    "            count+=1\n",
    "    if(i[\"parameters\"][\"latency\"]==\"100000\"):\n",
    "        first+=count\n",
    "    elif(i[\"parameters\"][\"latency\"]==\"333400000\"):\n",
    "        second+=count\n",
    "    elif(i[\"parameters\"][\"latency\"]==\"666700000\"):\n",
    "        third+=count\n",
    "    elif(i[\"parameters\"][\"latency\"]==\"1000000000\"):\n",
    "        forth+=count\n",
    "print(\"Bal oldali:\\n140,000Requests/20mp:\\n\\n\",\"100000    : \\t\",first,\"db\",\"\\n\",\"333400000 : \\t\",second,\"db\",\"\\n\",\"666700000 : \\t\",third,\"db\",\"\\n\",\"1000000000: \\t\",forth,\"db\\n\")\n",
    "mylabels=np.array([\"100000\",\"333400000\",\"666700000\",\"1000000000\"])\n",
    "y = np.array([first,second,third,forth])\n",
    "plt.subplot(1, 2, 1)\n",
    "plt.bar(mylabels,y )\n",
    "first=0\n",
    "second=0\n",
    "third=0\n",
    "forth=0\n",
    "for i in data[\"measurements\"]:\n",
    "    count=0\n",
    "    for j in i[\"results\"]:\n",
    "        if(j>138000):\n",
    "            count+=1\n",
    "    if(i[\"parameters\"][\"latency\"]==\"100000\"):\n",
    "        first+=count\n",
    "    elif(i[\"parameters\"][\"latency\"]==\"333400000\"):\n",
    "        second+=count\n",
    "    elif(i[\"parameters\"][\"latency\"]==\"666700000\"):\n",
    "        third+=count\n",
    "    elif(i[\"parameters\"][\"latency\"]==\"1000000000\"):\n",
    "        forth+=count\n",
    "print(\"Jobb oldali:\\n138,000Requests/20mp:\\n\\n\",\"100000    : \\t\",first,\"db\",\"\\n\",\"333400000 : \\t\",second,\"db\",\"\\n\",\"666700000 : \\t\",third,\"db\",\"\\n\",\"1000000000: \\t\",forth,\"db\")\n",
    "mylabels=np.array([\"100000\",\"333400000\",\"666700000\",\"1000000000\"])\n",
    "y = np.array([first,second,third,forth])\n",
    "plt.subplot(1, 2, 2)\n",
    "plt.bar(mylabels,y )\n",
    "plt.show()"
   ]
  },
  {
   "cell_type": "markdown",
   "metadata": {},
   "source": [
    "- Itt az figyelhető meg, hogy adott beállításon, mennyi olyan minta volt amely legalább 140,000kérést végzett el 20 mp alatt.\n",
    "- Ez a 140,000 érték elég magas és jónak számít, látható hogy az 1280 mintából, csak pár darab került ide(140.000fölötti kategóriába).\n",
    "- Kisebb latency értékkel jobb eredményt kapunk, de ezek a paraméterek egymástól nem függetlenek. :(\n",
    "- Itt a ezt a leírást sajnos ilyen csúnyán sikerült még megcsinálnom(későbbiekben javítom), de magáról az oszlop diagrammról is beazonosíthatók. "
   ]
  }
 ],
 "metadata": {
  "kernelspec": {
   "display_name": "Python 3",
   "language": "python",
   "name": "python3"
  },
  "language_info": {
   "codemirror_mode": {
    "name": "ipython",
    "version": 3
   },
   "file_extension": ".py",
   "mimetype": "text/x-python",
   "name": "python",
   "nbconvert_exporter": "python",
   "pygments_lexer": "ipython3",
   "version": "3.7.3"
  }
 },
 "nbformat": 4,
 "nbformat_minor": 4
}
