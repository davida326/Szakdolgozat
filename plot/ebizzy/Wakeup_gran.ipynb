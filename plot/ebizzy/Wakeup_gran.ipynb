{
 "cells": [
  {
   "cell_type": "code",
   "execution_count": null,
   "metadata": {},
   "outputs": [],
   "source": [
    "#Ebizzy benchmark méréseket feldolgozó python program (Több processzor magot igényel, webszerver terhelést, próbál imitálni)\n",
    "#Az egyes részek alatt található a leírás hogy éppen mit szeretnék megjeleníteni az eredményekből\n",
    "#Itt az összes benchmark fix ideig futott, és jobb eredménynek számít az ha ezalatt az idő alatt több request-et tudott elvégezni.\n",
    "#140.000-nél találhatók a legjobb értékek, és ezek egészen 115796(request/20sec) ig mozognak(amik már rossznak számítanak)"
   ]
  },
  {
   "cell_type": "code",
   "execution_count": 8,
   "metadata": {},
   "outputs": [
    {
     "data": {
      "image/png": "[encoded data removed]",
      "text/plain": [
       "<Figure size 432x288 with 1 Axes>"
      ]
     },
     "metadata": {
      "needs_background": "light"
     },
     "output_type": "display_data"
    }
   ],
   "source": [
    "import json\n",
    "import matplotlib.pyplot as plt\n",
    "import numpy as npa\n",
    "rtime = []\n",
    "wakeup_gran = []\n",
    "f = open(\"ertekek.json\")\n",
    "data = json.load(f)\n",
    "for i in data[\"measurements\"]:\n",
    "    wakeup_gran.append(i[\"parameters\"][\"wakeup_gran\"])\n",
    "    min = i[\"results\"][0]\n",
    "    for j in i[\"results\"]:\n",
    "        if (j<min):\n",
    "            min = j\n",
    "    rtime.append(min)\n",
    "plt.plot(wakeup_gran,rtime,\"o\")\n",
    "plt.show()\n",
    "#Itt az öt futási mintából a legjobbat választottam ki, x-wake-up preemption granularity(mozgó paraméter, többi rögzített) y-runtime"
   ]
  },
  {
   "cell_type": "code",
   "execution_count": 11,
   "metadata": {},
   "outputs": [
    {
     "name": "stdout",
     "output_type": "stream",
     "text": [
      "most requests/20sec:  141396 \n",
      " [{'parameters': {'latency': '1000000000', 'min_gran': '1000000000', 'wakeup_gran': '666666666', 'prio': '6'}, 'results': [141396, 138946, 138398, 132137, 138553]}]\n",
      "least requests/20sec:  115796 \n",
      " [{'parameters': {'latency': '333400000', 'min_gran': '1000000000', 'wakeup_gran': '1000000000', 'prio': '-6'}, 'results': [138041, 115796, 138227, 139254, 137707]}]\n"
     ]
    }
   ],
   "source": [
    "import json\n",
    "f = open(\"ertekek.json\")\n",
    "data = json.load(f)\n",
    "best=[]\n",
    "worst=[]\n",
    "max = data[\"measurements\"][0][\"results\"][0]\n",
    "min = data[\"measurements\"][0][\"results\"][0]\n",
    "for i in data[\"measurements\"]:\n",
    "    for j in i[\"results\"]:\n",
    "        if(j<min):\n",
    "            min=j\n",
    "        if(j>max):\n",
    "            max=j\n",
    "\n",
    "for i in data[\"measurements\"]:\n",
    "    found=False\n",
    "    mfound=False\n",
    "    for j in i[\"results\"]:\n",
    "        if(j==min):\n",
    "            mfound=True\n",
    "        if(j==max):\n",
    "            found=True\n",
    "    if(found):\n",
    "        best.append(i)\n",
    "    if(mfound):\n",
    "        worst.append(i)\n",
    "print(\"most requests/20sec: \",max,\"\\n\",best)\n",
    "print(\"least requests/20sec: \",min,\"\\n\",worst)\n",
    "#A legjobb futási eredmény és annak beállításai:\n",
    "#Ami itt látható hogy viszonylag nagy a szórás a minták között, a legjobbnál például szerepel 141396(ami csúcs eredmény)-132137(egészen átlagos)"
   ]
  },
  {
   "cell_type": "code",
   "execution_count": 10,
   "metadata": {},
   "outputs": [
    {
     "data": {
      "image/png": "[encoded data removed]",
      "text/plain": [
       "<Figure size 432x288 with 1 Axes>"
      ]
     },
     "metadata": {
      "needs_background": "light"
     },
     "output_type": "display_data"
    }
   ],
   "source": [
    "import json\n",
    "import matplotlib.pyplot as plt\n",
    "import numpy as np\n",
    "rtime = []\n",
    "wakeup_gran = []\n",
    "f = open(\"ertekek.json\")\n",
    "data = json.load(f)\n",
    "for i in data[\"measurements\"]:\n",
    "    for k in range(5):\n",
    "        wakeup_gran.append(i[\"parameters\"][\"wakeup_gran\"])\n",
    "    for j in i[\"results\"]:\n",
    "        rtime.append(j)\n",
    "plt.plot(wakeup_gran,rtime,\"o\")\n",
    "plt.show()\n",
    "#Az összes minta szerepel a grafikonon, a hozzá társuló Minimal_granularity paraméterrel"
   ]
  },
  {
   "cell_type": "code",
   "execution_count": 29,
   "metadata": {},
   "outputs": [
    {
     "name": "stdout",
     "output_type": "stream",
     "text": [
      "140,000Requests/20mp:\n",
      "\n",
      " 0\t   : \t 1 db \n",
      " 333333333 : \t 3 db \n",
      " 666666666 :\t 11 db \n",
      " 1000000000: \t 4 db\n",
      "\n",
      "\t\t\t\t\t\t\t\t\t\t 138,000Requests/20mp:\n",
      "\n",
      " \t\t\t\t\t\t\t\t\t\t 0\t   : \t 34 db \n",
      " \t\t\t\t\t\t\t\t\t\t 333333333 : \t 96 db \n",
      " \t\t\t\t\t\t\t\t\t\t 666666666 : \t 145 db \n",
      " \t\t\t\t\t\t\t\t\t\t 1000000000: \t 146 db\n"
     ]
    },
    {
     "data": {
      "image/png": "[encoded data removed]",
      "text/plain": [
       "<Figure size 1296x360 with 2 Axes>"
      ]
     },
     "metadata": {
      "needs_background": "light"
     },
     "output_type": "display_data"
    }
   ],
   "source": [
    "import json\n",
    "import matplotlib.pyplot as plt\n",
    "import numpy as np\n",
    "f, ax = plt.subplots(figsize=(18,5)) # set the size - figsize(width, height)\n",
    "first=0\n",
    "second=0\n",
    "third=0\n",
    "forth=0\n",
    "f = open(\"ertekek.json\")\n",
    "data = json.load(f)\n",
    "for i in data[\"measurements\"]:\n",
    "    count=0\n",
    "    for j in i[\"results\"]:\n",
    "        if(j>140000):\n",
    "            count+=1\n",
    "    if(i[\"parameters\"][\"wakeup_gran\"]==\"0\"):\n",
    "        first+=count\n",
    "    elif(i[\"parameters\"][\"wakeup_gran\"]==\"333333333\"):\n",
    "        second+=count\n",
    "    elif(i[\"parameters\"][\"wakeup_gran\"]==\"666666666\"):\n",
    "        third+=count\n",
    "    elif(i[\"parameters\"][\"wakeup_gran\"]==\"1000000000\"):\n",
    "        forth+=count\n",
    "print(\"140,000Requests/20mp:\\n\\n\",\"0\\t   : \\t\",first,\"db\",\"\\n\",\"333333333 : \\t\",second,\"db\",\"\\n\",\"666666666 :\\t\",third,\"db\",\"\\n\",\"1000000000: \\t\",forth,\"db\\n\")\n",
    "mylabels=np.array([\"0\",\"333333333\",\"666666666\",\"1000000000\"])\n",
    "y = np.array([first,second,third,forth])\n",
    "plt.subplot(1, 2, 1)\n",
    "plt.bar(mylabels,y )\n",
    "first=0\n",
    "second=0\n",
    "third=0\n",
    "forth=0\n",
    "for i in data[\"measurements\"]:\n",
    "    count=0\n",
    "    for j in i[\"results\"]:\n",
    "        if(j>138000):\n",
    "            count+=1\n",
    "    if(i[\"parameters\"][\"wakeup_gran\"]==\"0\"):\n",
    "        first+=count\n",
    "    elif(i[\"parameters\"][\"wakeup_gran\"]==\"333333333\"):\n",
    "        second+=count\n",
    "    elif(i[\"parameters\"][\"wakeup_gran\"]==\"666666666\"):\n",
    "        third+=count\n",
    "    elif(i[\"parameters\"][\"wakeup_gran\"]==\"1000000000\"):\n",
    "        forth+=count\n",
    "print(\"\\t\"*10,\"138,000Requests/20mp:\\n\\n\",\"\\t\"*10,\"0\\t   : \\t\",first,\"db\",\"\\n\",\"\\t\"*10,\"333333333 : \\t\",second,\"db\",\"\\n\",\"\\t\"*10,\"666666666 : \\t\",third,\"db\",\"\\n\",\"\\t\"*10,\"1000000000: \\t\",forth,\"db\")\n",
    "mylabels=np.array([\"0\",\"333333333\",\"666666666\",\"1000000000\"])\n",
    "y = np.array([first,second,third,forth])\n",
    "plt.subplot(1, 2, 2)\n",
    "plt.bar(mylabels,y )\n",
    "\n",
    "plt.show()\n",
    "#Itt az figyelhető meg, hogy adott beállításon, mennyi olyan minta volt amely legalább 140,000kérést végzett el 20 mp alatt.\n",
    "#Ez a 140,000 érték elég magas és jónak számít, látható hogy az 1280 mintából, csak pár darab került ide(140.000fölötti kategóriába).\n",
    "#Itt a ezt a leírást sajnos ilyen csúnyán sikerült még megcsinálnom(későbbiekben javítom), de magáról az oszlop diagrammról is beazonosíthatók. "
   ]
  }
 ],
 "metadata": {
  "kernelspec": {
   "display_name": "Python 3",
   "language": "python",
   "name": "python3"
  },
  "language_info": {
   "codemirror_mode": {
    "name": "ipython",
    "version": 3
   },
   "file_extension": ".py",
   "mimetype": "text/x-python",
   "name": "python",
   "nbconvert_exporter": "python",
   "pygments_lexer": "ipython3",
   "version": "3.7.3"
  }
 },
 "nbformat": 4,
 "nbformat_minor": 4
}
