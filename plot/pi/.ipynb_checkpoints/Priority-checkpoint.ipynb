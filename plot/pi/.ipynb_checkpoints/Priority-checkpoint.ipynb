{
 "cells": [
  {
   "cell_type": "markdown",
   "metadata": {},
   "source": [
    "### PI értékeit számító benchmark méréseket feldolgozó python program (A benchmark egy processzor magot vesz igénybe)\n",
    "#### priority paraméterhez tartozó grafikonok\n",
    "- Itt találhatóak azok a grafikonok amik, nem paraméter alapján lettek meghatározva, hanem az összes eredmény által. \n",
    "- Az egyes részek alatt található a leírás hogy éppen mit szeretnék megmutatni az eredményekből\n",
    "- Jobb értéknek számítanak a kisebb számok, amik azt jelzik hogy, mennyi idő volt szükséges a benchmark lefutásához. \n",
    "- 3.5 -nél találhatók a legjobb értékek, és ezek egészen 7 mp ig mozognak(amik már rossznak számítanak)"
   ]
  },
  {
   "cell_type": "code",
   "execution_count": 3,
   "metadata": {},
   "outputs": [
    {
     "data": {
      "image/png": "[encoded data removed]",
      "text/plain": [
       "<Figure size 432x288 with 1 Axes>"
      ]
     },
     "metadata": {
      "needs_background": "light"
     },
     "output_type": "display_data"
    }
   ],
   "source": [
    "import json\n",
    "import matplotlib.pyplot as plt\n",
    "import numpy as np\n",
    "rtime = []\n",
    "prio = []\n",
    "f = open(\"ertekek.json\")\n",
    "avg=[]\n",
    "data = json.load(f)\n",
    "for i in data[\"measurements\"]:\n",
    "    avgi=0\n",
    "    prio.append(i[\"parameters\"][\"prio\"])\n",
    "    for j in i[\"results\"]:\n",
    "        avgi+=j\n",
    "    avg.append(avgi/len(i[\"results\"]))\n",
    "plt.plot(prio,avg,\"o\")\n",
    "plt.show()"
   ]
  },
  {
   "cell_type": "markdown",
   "metadata": {},
   "source": [
    "Itt az öt futási mintát átlagoltam, x-priority(mozgó paraméter, többi rögzített) y-runtime(5 darab minta átlag futási ideje)"
   ]
  },
  {
   "cell_type": "code",
   "execution_count": 9,
   "metadata": {},
   "outputs": [
    {
     "data": {
      "image/png": "[encoded data removed]",
      "text/plain": [
       "<Figure size 432x288 with 1 Axes>"
      ]
     },
     "metadata": {
      "needs_background": "light"
     },
     "output_type": "display_data"
    }
   ],
   "source": [
    "import json\n",
    "import matplotlib.pyplot as plt\n",
    "import numpy as np\n",
    "rtime = []\n",
    "prio = []\n",
    "f = open(\"ertekek.json\")\n",
    "data = json.load(f)\n",
    "for i in data[\"measurements\"]:\n",
    "    for k in range(5):\n",
    "        prio.append(i[\"parameters\"][\"prio\"])\n",
    "    for j in i[\"results\"]:\n",
    "        rtime.append(j)\n",
    "plt.plot(prio,rtime,\"o\")\n",
    "plt.show()"
   ]
  },
  {
   "cell_type": "markdown",
   "metadata": {},
   "source": [
    "Az összes minta szerepel a grafikonon, a hozzá társuló Priority paraméterrel"
   ]
  },
  {
   "cell_type": "code",
   "execution_count": 2,
   "metadata": {
    "scrolled": true
   },
   "outputs": [
    {
     "name": "stdout",
     "output_type": "stream",
     "text": [
      "\n",
      " -20: \t 156 db \n",
      "  -6: \t 150 db \n",
      "   6: \t 141 db \n",
      "  19: \t 154 db\n"
     ]
    },
    {
     "data": {
      "image/png": "[encoded data removed]",
      "text/plain": [
       "<Figure size 432x288 with 1 Axes>"
      ]
     },
     "metadata": {
      "needs_background": "light"
     },
     "output_type": "display_data"
    }
   ],
   "source": [
    "import json\n",
    "import matplotlib.pyplot as plt\n",
    "import numpy as np\n",
    "rtime = []\n",
    "min_gran = []\n",
    "first=0\n",
    "second=0\n",
    "third=0\n",
    "forth=0\n",
    "f = open(\"ertekek.json\")\n",
    "data = json.load(f)\n",
    "for i in data[\"measurements\"]:\n",
    "    count=0\n",
    "    for j in i[\"results\"]:\n",
    "        if(j<3.6):\n",
    "            count+=1\n",
    "    if(i[\"parameters\"][\"prio\"]==\"-20\"):\n",
    "        first+=count\n",
    "    elif(i[\"parameters\"][\"prio\"]==\"-6\"):\n",
    "        second+=count\n",
    "    elif(i[\"parameters\"][\"prio\"]==\"6\"):\n",
    "        third+=count\n",
    "    elif(i[\"parameters\"][\"prio\"]==\"19\"):\n",
    "        forth+=count\n",
    "print(\"\\n\",\"-20: \\t\",first,\"db\",\"\\n\",\" -6: \\t\",second,\"db\",\"\\n\",\"  6: \\t\",third,\"db\",\"\\n\",\" 19: \\t\",forth,\"db\")\n",
    "mylabels=np.array([\"-20\",\"-6\",\"6\",\"19\"])\n",
    "y = np.array([first,second,third,forth])\n",
    "plt.bar(mylabels,y)\n",
    "plt.show()"
   ]
  },
  {
   "cell_type": "markdown",
   "metadata": {},
   "source": [
    "Itt az figyelhető meg, hogy adott beállításon, mennyi olyan minta volt amely 3.6 másodperc alatt végzett.\n",
    "Az eredmények mint láthatók, nagyon hasonlóak lettek a prioritás változtatásával."
   ]
  }
 ],
 "metadata": {
  "kernelspec": {
   "display_name": "Python 3",
   "language": "python",
   "name": "python3"
  },
  "language_info": {
   "codemirror_mode": {
    "name": "ipython",
    "version": 3
   },
   "file_extension": ".py",
   "mimetype": "text/x-python",
   "name": "python",
   "nbconvert_exporter": "python",
   "pygments_lexer": "ipython3",
   "version": "3.7.3"
  }
 },
 "nbformat": 4,
 "nbformat_minor": 4
}
