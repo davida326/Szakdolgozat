{
 "cells": [
  {
   "cell_type": "markdown",
   "metadata": {},
   "source": [
    "### PI értékeit számító benchmark méréseket feldolgozó python program (A benchmark egy processzor magot vesz igénybe)\n",
    "#### wakeup_gran paraméterhez tartozó grafikonok\n",
    "- Az egyes részek alatt található a leírás hogy éppen mit szeretnék megmutatni az eredményekből\n",
    "- Jobb értéknek számítanak a kisebb számok, amik azt jelzik hogy, mennyi idő volt szükséges a benchmark lefutásához. \n",
    "- 3.5 -nél találhatók a legjobb értékek, és ezek egészen 7 mp ig mozognak(amik már rossznak számítanak)"
   ]
  },
  {
   "cell_type": "code",
   "execution_count": 1,
   "metadata": {},
   "outputs": [
    {
     "data": {
      "image/png": "[encoded data removed]",
      "text/plain": [
       "<Figure size 432x288 with 1 Axes>"
      ]
     },
     "metadata": {
      "needs_background": "light"
     },
     "output_type": "display_data"
    }
   ],
   "source": [
    "import json\n",
    "import matplotlib.pyplot as plt\n",
    "import numpy as np\n",
    "rtime = []\n",
    "wakeup_gran = []\n",
    "f = open(\"ertekek.json\")\n",
    "avg=[]\n",
    "data = json.load(f)\n",
    "for i in data[\"measurements\"]:\n",
    "    avgi=0\n",
    "    wakeup_gran.append(i[\"parameters\"][\"wakeup_gran\"])\n",
    "    for j in i[\"results\"]:\n",
    "        avgi+=j\n",
    "    avg.append(avgi/len(i[\"results\"]))\n",
    "plt.plot(wakeup_gran,avg,\"o\")\n",
    "plt.show()"
   ]
  },
  {
   "cell_type": "markdown",
   "metadata": {},
   "source": [
    "Itt az öt futási mintát átlagoltam, x-wakeup_gran(mozgó paraméter, többi rögzített) y-runtime(5 darab minta átlag futási ideje)"
   ]
  },
  {
   "cell_type": "code",
   "execution_count": 3,
   "metadata": {},
   "outputs": [
    {
     "data": {
      "image/png": "[encoded data removed]",
      "text/plain": [
       "<Figure size 432x288 with 1 Axes>"
      ]
     },
     "metadata": {
      "needs_background": "light"
     },
     "output_type": "display_data"
    }
   ],
   "source": [
    "import json\n",
    "import matplotlib.pyplot as plt\n",
    "import numpy as np\n",
    "rtime = []\n",
    "wakeup_gran = []\n",
    "f = open(\"ertekek.json\")\n",
    "data = json.load(f)\n",
    "for i in data[\"measurements\"]:\n",
    "    for k in range(5):\n",
    "        wakeup_gran.append(i[\"parameters\"][\"wakeup_gran\"])\n",
    "    for j in i[\"results\"]:\n",
    "        rtime.append(j)\n",
    "plt.plot(wakeup_gran,rtime,\"o\")\n",
    "plt.show()"
   ]
  },
  {
   "cell_type": "markdown",
   "metadata": {},
   "source": [
    "Az összes minta szerepel a grafikonon, a hozzá társuló wake-up preemption granularity paraméterrel\n",
    "Itt is megfigyelhető, az ami a legelső grafikonnál, kis wakeup_gran beállításnál, több jó eredmény született"
   ]
  },
  {
   "cell_type": "code",
   "execution_count": 4,
   "metadata": {},
   "outputs": [
    {
     "name": "stdout",
     "output_type": "stream",
     "text": [
      "\n",
      " 0\t   : \t 286 db \n",
      " 333333333 : \t 175 db \n",
      " 666666666 : \t 68 db \n",
      " 1000000000: \t 72 db\n"
     ]
    },
    {
     "data": {
      "image/png": "[encoded data removed]",
      "text/plain": [
       "<Figure size 432x288 with 1 Axes>"
      ]
     },
     "metadata": {
      "needs_background": "light"
     },
     "output_type": "display_data"
    }
   ],
   "source": [
    "import json\n",
    "import matplotlib.pyplot as plt\n",
    "import numpy as np\n",
    "rtime = []\n",
    "min_gran = []\n",
    "first=0\n",
    "second=0\n",
    "third=0\n",
    "forth=0\n",
    "f = open(\"ertekek.json\")\n",
    "data = json.load(f)\n",
    "for i in data[\"measurements\"]:\n",
    "    count=0\n",
    "    for j in i[\"results\"]:\n",
    "        if(j<3.6):\n",
    "            count+=1\n",
    "    if(i[\"parameters\"][\"wakeup_gran\"]==\"0\"):\n",
    "        first+=count\n",
    "    elif(i[\"parameters\"][\"wakeup_gran\"]==\"333333333\"):\n",
    "        second+=count\n",
    "    elif(i[\"parameters\"][\"wakeup_gran\"]==\"666666666\"):\n",
    "        third+=count\n",
    "    elif(i[\"parameters\"][\"wakeup_gran\"]==\"1000000000\"):\n",
    "        forth+=count\n",
    "print(\"\\n\",\"0\\t   : \\t\",first,\"db\",\"\\n\",\"333333333 : \\t\",second,\"db\",\"\\n\",\"666666666 : \\t\",third,\"db\",\"\\n\",\"1000000000: \\t\",forth,\"db\")\n",
    "mylabels=np.array([\"0\",\"333333333\",\"666666666\",\"1000000000\"])\n",
    "y = np.array([first,second,third,forth])\n",
    "plt.bar(mylabels,y )\n",
    "plt.show()"
   ]
  },
  {
   "cell_type": "markdown",
   "metadata": {},
   "source": [
    "Itt az figyelhető meg, hogy adott beállításon, hány darab olyan minta volt amely 3.6 másodperc alatt végzett.\n",
    "Ennél a paraméternél is legalacsonyabb beállítással, sokkal több esetben fordult elő jobb eredmény"
   ]
  }
 ],
 "metadata": {
  "kernelspec": {
   "display_name": "Python 3",
   "language": "python",
   "name": "python3"
  },
  "language_info": {
   "codemirror_mode": {
    "name": "ipython",
    "version": 3
   },
   "file_extension": ".py",
   "mimetype": "text/x-python",
   "name": "python",
   "nbconvert_exporter": "python",
   "pygments_lexer": "ipython3",
   "version": "3.7.3"
  }
 },
 "nbformat": 4,
 "nbformat_minor": 4
}
