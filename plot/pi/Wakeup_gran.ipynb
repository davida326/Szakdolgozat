{
 "cells": [
  {
   "cell_type": "code",
   "execution_count": 3,
   "metadata": {},
   "outputs": [
    {
     "data": {
      "image/png": "[encoded data removed]",
      "text/plain": [
       "<Figure size 432x288 with 1 Axes>"
      ]
     },
     "metadata": {
      "needs_background": "light"
     },
     "output_type": "display_data"
    }
   ],
   "source": [
    "import json\n",
    "import matplotlib.pyplot as plt\n",
    "import numpy as np\n",
    "rtime = []\n",
    "wakeup_gran = []\n",
    "f = open(\"ertekek.json\")\n",
    "data = json.load(f)\n",
    "for i in data[\"measurements\"]:\n",
    "    wakeup_gran.append(i[\"parameters\"][\"wakeup_gran\"])\n",
    "    min = i[\"results\"][0]\n",
    "    for j in i[\"results\"]:\n",
    "        if (j<min):5í5\n",
    "            min = j\n",
    "    rtime.append(min)\n",
    "plt.plot(wakeup_gran,rtime,\"o\")\n",
    "plt.show()\n",
    "#Itt az öt futási mintából a legjobbat választottam ki, x-wake-up preemption granularity(mozgó paraméter, többi rögzített) y-runtime"
   ]
  },
  {
   "cell_type": "code",
   "execution_count": 14,
   "metadata": {},
   "outputs": [
    {
     "name": "stdout",
     "output_type": "stream",
     "text": [
      "smallest runtime:  3.54\n",
      "{'parameters': {'latency': '333400000', 'min_gran': '1000000000', 'wakeup_gran': '0', 'prio': '-6'}, 'results': [3.58, 3.54, 3.66, 3.57, 3.57]}\n"
     ]
    }
   ],
   "source": [
    "import json\n",
    "f = open(\"ertekek.json\")\n",
    "data = json.load(f)\n",
    "min = data[\"measurements\"][0][\"results\"][0]\n",
    "for i in data[\"measurements\"]:\n",
    "    for j in i[\"results\"]:\n",
    "        if(j<min):\n",
    "            min=j\n",
    "print(\"smallest runtime: \",min)\n",
    "for i in data[\"measurements\"]:\n",
    "    found=False\n",
    "    for j in i[\"results\"]:\n",
    "        if (j==min):\n",
    "            found=True\n",
    "    if(found):\n",
    "        print(i)\n",
    "#A legjobb futási eredmény és annak beállításai:"
   ]
  },
  {
   "cell_type": "code",
   "execution_count": 8,
   "metadata": {},
   "outputs": [
    {
     "data": {
      "image/png": "[encoded data removed]",
      "text/plain": [
       "<Figure size 432x288 with 1 Axes>"
      ]
     },
     "metadata": {
      "needs_background": "light"
     },
     "output_type": "display_data"
    }
   ],
   "source": [
    "import json\n",
    "import matplotlib.pyplot as plt\n",
    "import numpy as np\n",
    "rtime = []\n",
    "wakeup_gran = []\n",
    "f = open(\"ertekek.json\")\n",
    "data = json.load(f)\n",
    "for i in data[\"measurements\"]:\n",
    "    for k in range(5):\n",
    "        wakeup_gran.append(i[\"parameters\"][\"wakeup_gran\"])\n",
    "    for j in i[\"results\"]:\n",
    "        rtime.append(j)\n",
    "plt.plot(wakeup_gran,rtime,\"o\")\n",
    "plt.show()\n",
    "#Az összes minta szerepel a grafikonon, a hozzá társuló Minimal_granularity paraméterrel"
   ]
  },
  {
   "cell_type": "code",
   "execution_count": 21,
   "metadata": {},
   "outputs": [
    {
     "name": "stdout",
     "output_type": "stream",
     "text": [
      "\n",
      " 0\t   : \t 286 db \n",
      " 333333333 : \t 175 db \n",
      " 666666666 : \t 68 db \n",
      " 1000000000: \t 72 db\n"
     ]
    },
    {
     "data": {
      "image/png": "[encoded data removed]",
      "text/plain": [
       "<Figure size 432x288 with 1 Axes>"
      ]
     },
     "metadata": {
      "needs_background": "light"
     },
     "output_type": "display_data"
    }
   ],
   "source": [
    "import json\n",
    "import matplotlib.pyplot as plt\n",
    "import numpy as np\n",
    "rtime = []\n",
    "min_gran = []\n",
    "first=0\n",
    "second=0\n",
    "third=0\n",
    "forth=0\n",
    "f = open(\"ertekek.json\")\n",
    "data = json.load(f)\n",
    "for i in data[\"measurements\"]:\n",
    "    count=0\n",
    "    for j in i[\"results\"]:\n",
    "        if(j<3.6):\n",
    "            count+=1\n",
    "    if(i[\"parameters\"][\"wakeup_gran\"]==\"0\"):\n",
    "        first+=count\n",
    "    elif(i[\"parameters\"][\"wakeup_gran\"]==\"333333333\"):\n",
    "        second+=count\n",
    "    elif(i[\"parameters\"][\"wakeup_gran\"]==\"666666666\"):\n",
    "        third+=count\n",
    "    elif(i[\"parameters\"][\"wakeup_gran\"]==\"1000000000\"):\n",
    "        forth+=count\n",
    "print(\"\\n\",\"0\\t   : \\t\",first,\"db\",\"\\n\",\"333333333 : \\t\",second,\"db\",\"\\n\",\"666666666 : \\t\",third,\"db\",\"\\n\",\"1000000000: \\t\",forth,\"db\")\n",
    "mylabels=np.array([\"100000\",\"333333333\",\"666666666\",\"1000000000\"])\n",
    "y = np.array([first,second,third,forth])\n",
    "plt.bar(mylabels,y )\n",
    "plt.show()\n",
    "#Itt az figyelhető meg, hogy adott beállításon, mennyi olyan minta volt amely 3.6 másodperc alatt végzett.\n",
    "#Ennél a paraméternél is legalacsonyabb beállítással, sokkal több esetben fordult elő jobb eredmény"
   ]
  }
 ],
 "metadata": {
  "kernelspec": {
   "display_name": "Python 3",
   "language": "python",
   "name": "python3"
  },
  "language_info": {
   "codemirror_mode": {
    "name": "ipython",
    "version": 3
   },
   "file_extension": ".py",
   "mimetype": "text/x-python",
   "name": "python",
   "nbconvert_exporter": "python",
   "pygments_lexer": "ipython3",
   "version": "3.7.3"
  }
 },
 "nbformat": 4,
 "nbformat_minor": 4
}
