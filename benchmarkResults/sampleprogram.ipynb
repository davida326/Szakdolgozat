{
 "cells": [
  {
   "cell_type": "markdown",
   "metadata": {},
   "source": [
    "# Sampleprogram benchmark eredményeinek elemzése"
   ]
  },
  {
   "cell_type": "code",
   "execution_count": 2,
   "metadata": {},
   "outputs": [],
   "source": [
    "import json\n",
    "import numpy as np\n",
    "import matplotlib.pyplot as plt\n",
    "import pandas as pd\n",
    "import seaborn as sns"
   ]
  },
  {
   "cell_type": "code",
   "execution_count": 3,
   "metadata": {},
   "outputs": [],
   "source": [
    "testLocations = [\n",
    "    \"./parametertestResults/sampleprogram.json\"\n",
    "]\n",
    "testNameList = [\n",
    "    \"sampleprogram\"\n",
    "]"
   ]
  },
  {
   "cell_type": "code",
   "execution_count": 4,
   "metadata": {},
   "outputs": [],
   "source": [
    "def avgLst(lst):\n",
    "    if(isinstance(lst,list)):\n",
    "        return sum(lst)/len(lst)\n",
    "    else:\n",
    "        return lst\n",
    "\n",
    "def getIntervals(data):\n",
    "    intervalTop,intervalBottom = 0.0,float(avgLst(data[\"measurements\"][0][\"results\"]))\n",
    "    for j in data[\"measurements\"]:\n",
    "        if(float(avgLst(j[\"results\"])) > intervalTop):\n",
    "            intervalTop = float(avgLst(j[\"results\"]))\n",
    "        if(float(avgLst(j[\"results\"])) < intervalBottom):\n",
    "            intervalBottom = float(avgLst(j[\"results\"]))\n",
    "    minMaxLst = [intervalBottom,intervalTop]\n",
    "    return minMaxLst\n",
    "\n",
    "def featureScale(value,intervalMax,intervalMin):\n",
    "    return (value-intervalMin)/(intervalMax-intervalMin)\n"
   ]
  },
  {
   "cell_type": "code",
   "execution_count": 5,
   "metadata": {},
   "outputs": [],
   "source": [
    "classResultIntervals = [0.20,0.4,0.6,0.8]\n",
    "classIntervalMinMax = []\n",
    "dataStrLst = []\n",
    "for i in range(len(testLocations)):\n",
    "    file = open(testLocations[i])\n",
    "    data = json.load(file)\n",
    "    dataStrLst.append(json.dumps(data))\n",
    "    minMax = getIntervals(data)\n",
    "    if(i == 0 or i == 2):\n",
    "        minMax.reverse()\n",
    "    classIntervalMinMax.append(minMax)"
   ]
  },
  {
   "cell_type": "markdown",
   "metadata": {},
   "source": [
    "### Adatok beolvasása, Dataframe elkészítése"
   ]
  },
  {
   "cell_type": "code",
   "execution_count": 6,
   "metadata": {},
   "outputs": [],
   "source": [
    "dataSet = []\n",
    "for i in range(len(dataStrLst)):\n",
    "    data_json = json.loads(dataStrLst[i])\n",
    "    classResult = 0\n",
    "    for j in data_json[\"measurements\"]:\n",
    "        swap = 1 if ( int(j[\"parameters\"][\"vm.swap\"]) > 0 ) else 0                                     \n",
    "        testType = data_json[\"testType\"]\n",
    "        testName = data_json[\"testName\"]\n",
    "        batchProcess = 1 if ( int(j[\"parameters\"][\"prio\"]) > 0 ) else 0\n",
    "        serverWorkload = 1 if( int(j[\"parameters\"][\"min_gran\"]) > 1500000) else 0\n",
    "        resultNormalized = featureScale(float(avgLst(j[\"results\"])),classIntervalMinMax[i][1],classIntervalMinMax[i][0])\n",
    "        for k in range(len(classResultIntervals)):\n",
    "            if(resultNormalized > classResultIntervals[k]):\n",
    "                classResult = (k+1)\n",
    "        dataSet.append([testType,testName,batchProcess,classResult,serverWorkload,swap,resultNormalized,int(j[\"parameters\"][\"latency\"]),int(j[\"parameters\"][\"min_gran\"]),int(j[\"parameters\"][\"wakeup_gran\"]),int(j[\"parameters\"][\"prio\"]),int(j[\"parameters\"][\"vm.swap\"])],)\n",
    "df = pd.DataFrame(dataSet,columns=[\"testType\",\"testName\",\"batchProcess\",\"resultClass\",\"serverWorkload\",\"swap\",\"results\",\"latency\",\"min_gran\",\"wakeup_gran\",\"priority\",\"vm.swappiness\"])\n"
   ]
  },
  {
   "cell_type": "code",
   "execution_count": 7,
   "metadata": {},
   "outputs": [
    {
     "data": {
      "text/html": [
       "<div>\n",
       "<style scoped>\n",
       "    .dataframe tbody tr th:only-of-type {\n",
       "        vertical-align: middle;\n",
       "    }\n",
       "\n",
       "    .dataframe tbody tr th {\n",
       "        vertical-align: top;\n",
       "    }\n",
       "\n",
       "    .dataframe thead th {\n",
       "        text-align: right;\n",
       "    }\n",
       "</style>\n",
       "<table border=\"1\" class=\"dataframe\">\n",
       "  <thead>\n",
       "    <tr style=\"text-align: right;\">\n",
       "      <th></th>\n",
       "      <th>testType</th>\n",
       "      <th>testName</th>\n",
       "      <th>batchProcess</th>\n",
       "      <th>resultClass</th>\n",
       "      <th>serverWorkload</th>\n",
       "      <th>swap</th>\n",
       "      <th>results</th>\n",
       "      <th>latency</th>\n",
       "      <th>min_gran</th>\n",
       "      <th>wakeup_gran</th>\n",
       "      <th>priority</th>\n",
       "      <th>vm.swappiness</th>\n",
       "    </tr>\n",
       "  </thead>\n",
       "  <tbody>\n",
       "    <tr>\n",
       "      <th>0</th>\n",
       "      <td>cpu-s</td>\n",
       "      <td>sampleprogram</td>\n",
       "      <td>0</td>\n",
       "      <td>4</td>\n",
       "      <td>0</td>\n",
       "      <td>0</td>\n",
       "      <td>0.987037</td>\n",
       "      <td>100000</td>\n",
       "      <td>100000</td>\n",
       "      <td>0</td>\n",
       "      <td>-20</td>\n",
       "      <td>0</td>\n",
       "    </tr>\n",
       "    <tr>\n",
       "      <th>1</th>\n",
       "      <td>cpu-s</td>\n",
       "      <td>sampleprogram</td>\n",
       "      <td>0</td>\n",
       "      <td>4</td>\n",
       "      <td>0</td>\n",
       "      <td>1</td>\n",
       "      <td>0.976852</td>\n",
       "      <td>100000</td>\n",
       "      <td>100000</td>\n",
       "      <td>0</td>\n",
       "      <td>-20</td>\n",
       "      <td>33</td>\n",
       "    </tr>\n",
       "    <tr>\n",
       "      <th>2</th>\n",
       "      <td>cpu-s</td>\n",
       "      <td>sampleprogram</td>\n",
       "      <td>0</td>\n",
       "      <td>4</td>\n",
       "      <td>0</td>\n",
       "      <td>1</td>\n",
       "      <td>0.994444</td>\n",
       "      <td>100000</td>\n",
       "      <td>100000</td>\n",
       "      <td>0</td>\n",
       "      <td>-20</td>\n",
       "      <td>66</td>\n",
       "    </tr>\n",
       "    <tr>\n",
       "      <th>3</th>\n",
       "      <td>cpu-s</td>\n",
       "      <td>sampleprogram</td>\n",
       "      <td>0</td>\n",
       "      <td>4</td>\n",
       "      <td>0</td>\n",
       "      <td>1</td>\n",
       "      <td>0.988889</td>\n",
       "      <td>100000</td>\n",
       "      <td>100000</td>\n",
       "      <td>0</td>\n",
       "      <td>-20</td>\n",
       "      <td>100</td>\n",
       "    </tr>\n",
       "    <tr>\n",
       "      <th>4</th>\n",
       "      <td>cpu-s</td>\n",
       "      <td>sampleprogram</td>\n",
       "      <td>0</td>\n",
       "      <td>4</td>\n",
       "      <td>0</td>\n",
       "      <td>0</td>\n",
       "      <td>0.991667</td>\n",
       "      <td>100000</td>\n",
       "      <td>100000</td>\n",
       "      <td>0</td>\n",
       "      <td>-6</td>\n",
       "      <td>0</td>\n",
       "    </tr>\n",
       "    <tr>\n",
       "      <th>...</th>\n",
       "      <td>...</td>\n",
       "      <td>...</td>\n",
       "      <td>...</td>\n",
       "      <td>...</td>\n",
       "      <td>...</td>\n",
       "      <td>...</td>\n",
       "      <td>...</td>\n",
       "      <td>...</td>\n",
       "      <td>...</td>\n",
       "      <td>...</td>\n",
       "      <td>...</td>\n",
       "      <td>...</td>\n",
       "    </tr>\n",
       "    <tr>\n",
       "      <th>1019</th>\n",
       "      <td>cpu-s</td>\n",
       "      <td>sampleprogram</td>\n",
       "      <td>1</td>\n",
       "      <td>1</td>\n",
       "      <td>1</td>\n",
       "      <td>1</td>\n",
       "      <td>0.109259</td>\n",
       "      <td>1000000000</td>\n",
       "      <td>1000000000</td>\n",
       "      <td>1000000000</td>\n",
       "      <td>6</td>\n",
       "      <td>100</td>\n",
       "    </tr>\n",
       "    <tr>\n",
       "      <th>1020</th>\n",
       "      <td>cpu-s</td>\n",
       "      <td>sampleprogram</td>\n",
       "      <td>1</td>\n",
       "      <td>1</td>\n",
       "      <td>1</td>\n",
       "      <td>0</td>\n",
       "      <td>0.243519</td>\n",
       "      <td>1000000000</td>\n",
       "      <td>1000000000</td>\n",
       "      <td>1000000000</td>\n",
       "      <td>19</td>\n",
       "      <td>0</td>\n",
       "    </tr>\n",
       "    <tr>\n",
       "      <th>1021</th>\n",
       "      <td>cpu-s</td>\n",
       "      <td>sampleprogram</td>\n",
       "      <td>1</td>\n",
       "      <td>1</td>\n",
       "      <td>1</td>\n",
       "      <td>1</td>\n",
       "      <td>0.205556</td>\n",
       "      <td>1000000000</td>\n",
       "      <td>1000000000</td>\n",
       "      <td>1000000000</td>\n",
       "      <td>19</td>\n",
       "      <td>33</td>\n",
       "    </tr>\n",
       "    <tr>\n",
       "      <th>1022</th>\n",
       "      <td>cpu-s</td>\n",
       "      <td>sampleprogram</td>\n",
       "      <td>1</td>\n",
       "      <td>1</td>\n",
       "      <td>1</td>\n",
       "      <td>1</td>\n",
       "      <td>0.047222</td>\n",
       "      <td>1000000000</td>\n",
       "      <td>1000000000</td>\n",
       "      <td>1000000000</td>\n",
       "      <td>19</td>\n",
       "      <td>66</td>\n",
       "    </tr>\n",
       "    <tr>\n",
       "      <th>1023</th>\n",
       "      <td>cpu-s</td>\n",
       "      <td>sampleprogram</td>\n",
       "      <td>1</td>\n",
       "      <td>1</td>\n",
       "      <td>1</td>\n",
       "      <td>1</td>\n",
       "      <td>0.361111</td>\n",
       "      <td>1000000000</td>\n",
       "      <td>1000000000</td>\n",
       "      <td>1000000000</td>\n",
       "      <td>19</td>\n",
       "      <td>100</td>\n",
       "    </tr>\n",
       "  </tbody>\n",
       "</table>\n",
       "<p>1024 rows × 12 columns</p>\n",
       "</div>"
      ],
      "text/plain": [
       "     testType       testName  batchProcess  resultClass  serverWorkload  swap  \\\n",
       "0       cpu-s  sampleprogram             0            4               0     0   \n",
       "1       cpu-s  sampleprogram             0            4               0     1   \n",
       "2       cpu-s  sampleprogram             0            4               0     1   \n",
       "3       cpu-s  sampleprogram             0            4               0     1   \n",
       "4       cpu-s  sampleprogram             0            4               0     0   \n",
       "...       ...            ...           ...          ...             ...   ...   \n",
       "1019    cpu-s  sampleprogram             1            1               1     1   \n",
       "1020    cpu-s  sampleprogram             1            1               1     0   \n",
       "1021    cpu-s  sampleprogram             1            1               1     1   \n",
       "1022    cpu-s  sampleprogram             1            1               1     1   \n",
       "1023    cpu-s  sampleprogram             1            1               1     1   \n",
       "\n",
       "       results     latency    min_gran  wakeup_gran  priority  vm.swappiness  \n",
       "0     0.987037      100000      100000            0       -20              0  \n",
       "1     0.976852      100000      100000            0       -20             33  \n",
       "2     0.994444      100000      100000            0       -20             66  \n",
       "3     0.988889      100000      100000            0       -20            100  \n",
       "4     0.991667      100000      100000            0        -6              0  \n",
       "...        ...         ...         ...          ...       ...            ...  \n",
       "1019  0.109259  1000000000  1000000000   1000000000         6            100  \n",
       "1020  0.243519  1000000000  1000000000   1000000000        19              0  \n",
       "1021  0.205556  1000000000  1000000000   1000000000        19             33  \n",
       "1022  0.047222  1000000000  1000000000   1000000000        19             66  \n",
       "1023  0.361111  1000000000  1000000000   1000000000        19            100  \n",
       "\n",
       "[1024 rows x 12 columns]"
      ]
     },
     "execution_count": 7,
     "metadata": {},
     "output_type": "execute_result"
    }
   ],
   "source": [
    "df"
   ]
  },
  {
   "cell_type": "code",
   "execution_count": 8,
   "metadata": {},
   "outputs": [],
   "source": [
    "dfLabels = [\"latency\",\"min_gran\",\"wakeup_gran\",\"priority\",\"vm.swappiness\"]\n",
    "titles=[\"Latency_ns\",\"Min_granularity_ns\",\"Wakeup_granularity_ns\",\"Priority\",\"vm.swappiness\"]"
   ]
  },
  {
   "cell_type": "markdown",
   "metadata": {},
   "source": [
    "### Itt láthatók hogy az egyes beállításokkal,  milyen eredmények születtek, azonban a kernel változók egymástól nem függetlenek. "
   ]
  },
  {
   "cell_type": "code",
   "execution_count": 9,
   "metadata": {},
   "outputs": [
    {
     "data": {
      "text/plain": [
       "[Text(0, 0.5, 'Results')]"
      ]
     },
     "execution_count": 9,
     "metadata": {},
     "output_type": "execute_result"
    },
    {
     "data": {
      "image/png": "[encoded data removed]",
      "text/plain": [
       "<Figure size 1440x288 with 5 Axes>"
      ]
     },
     "metadata": {
      "needs_background": "light"
     },
     "output_type": "display_data"
    }
   ],
   "source": [
    "plotY = df[\"results\"].to_numpy()\n",
    "f, ax = plt.subplots(1,5,sharey=True,figsize=(20,4))\n",
    "\n",
    "for i in range(5):\n",
    "    plotX = df[dfLabels[i]].to_numpy()\n",
    "    ax[i].plot(plotX,plotY,\"o\")\n",
    "    ax[i].set_title(titles[i])\n",
    "\n",
    "plt.setp(ax[0], ylabel=\"Results\")"
   ]
  },
  {
   "cell_type": "markdown",
   "metadata": {},
   "source": [
    "### Összesítő torta diagram, amin megfigyelhetjük hogy született eredmények nagyrésze a legjobb kategóriába került. Ebből következtethetünk arra hogy az egy cpu magot terhelő felhasználási módhoz a legtöbb beállítás a kernel változókon, megfelelő teljesítményt eredményez. Az eredmények romlása akkor jelentkezik amikor a sched\\_wakeup\\_granularity\\_ns változóhoz nagyobb értékét állítunk mint a sched\\_latency\\_ns fele. Ekkor sajnos a kis időciklusú taszkok nem lesznek képesek versenyezni a többi folyamattal amikor a processzort éppen nagy terhelés alatt áll."
   ]
  },
  {
   "cell_type": "code",
   "execution_count": 10,
   "metadata": {},
   "outputs": [
    {
     "data": {
      "text/plain": [
       "4    547\n",
       "1    434\n",
       "2     43\n",
       "Name: resultClass, dtype: int64"
      ]
     },
     "execution_count": 10,
     "metadata": {},
     "output_type": "execute_result"
    },
    {
     "data": {
      "image/png": "[encoded data removed]",
      "text/plain": [
       "<Figure size 432x288 with 1 Axes>"
      ]
     },
     "metadata": {},
     "output_type": "display_data"
    },
    {
     "data": {
      "text/plain": [
       "<Figure size 720x360 with 0 Axes>"
      ]
     },
     "metadata": {},
     "output_type": "display_data"
    }
   ],
   "source": [
    "plotValues=[]\n",
    "explode = (0, 0, 0, 0.1)  \n",
    "for i in range(1,5):\n",
    "    plotValues.append((len(df.loc[ (df[\"resultClass\"]==i), \"resultClass\"].to_numpy())))    \n",
    "plt.pie(plotValues,labels=[\"1\",\"2\",\"3\",\"4\"], explode=explode,autopct='%1.1f%%',shadow=True, startangle=140)\n",
    "plt.title(\"Sampleprogram\")\n",
    "plt.figure(figsize=(10,5))\n",
    "df[\"resultClass\"].value_counts()"
   ]
  }
 ],
 "metadata": {
  "kernelspec": {
   "display_name": "Python 3",
   "language": "python",
   "name": "python3"
  },
  "language_info": {
   "codemirror_mode": {
    "name": "ipython",
    "version": 3
   },
   "file_extension": ".py",
   "mimetype": "text/x-python",
   "name": "python",
   "nbconvert_exporter": "python",
   "pygments_lexer": "ipython3",
   "version": "3.7.3"
  }
 },
 "nbformat": 4,
 "nbformat_minor": 4
}
